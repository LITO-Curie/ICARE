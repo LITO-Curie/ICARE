{
 "cells": [
  {
   "cell_type": "code",
   "execution_count": 1,
   "id": "3f633902",
   "metadata": {
    "ExecuteTime": {
     "end_time": "2022-09-19T15:27:36.816473Z",
     "start_time": "2022-09-19T15:27:35.874691Z"
    }
   },
   "outputs": [],
   "source": [
    "import numpy as np\n",
    "import pandas as pd\n",
    "from sksurv.util import Surv\n",
    "from tqdm import tqdm\n",
    "from icare.survival import IcareSurv, BaggedIcareSurv\n",
    "from sklearn.model_selection import cross_val_score, ShuffleSplit\n",
    "from joblib import Parallel, delayed\n",
    "from icare.metrics import harrell_cindex\n",
    "import matplotlib.pyplot as plt"
   ]
  },
  {
   "cell_type": "code",
   "execution_count": 2,
   "id": "dc6f96b1",
   "metadata": {
    "ExecuteTime": {
     "end_time": "2022-09-19T15:27:37.252438Z",
     "start_time": "2022-09-19T15:27:36.818197Z"
    }
   },
   "outputs": [
    {
     "data": {
      "text/plain": [
       "(486, 2433)"
      ]
     },
     "execution_count": 2,
     "metadata": {},
     "output_type": "execute_result"
    }
   ],
   "source": [
    "df = pd.read_csv('/home/louis/Documents/work/uncool_package/dev/df_train.csv', index_col='PatientID')\n",
    "df.shape"
   ]
  },
  {
   "cell_type": "code",
   "execution_count": 3,
   "id": "9e9ac392",
   "metadata": {
    "ExecuteTime": {
     "end_time": "2022-09-19T15:27:37.264531Z",
     "start_time": "2022-09-19T15:27:37.254351Z"
    }
   },
   "outputs": [
    {
     "data": {
      "text/plain": [
       "(14,\n",
       " ['everything_mergeddilat16mm_',\n",
       "  'everything_merged4_',\n",
       "  'everything_mergedBBox_',\n",
       "  'everything_mergedshell2mm_',\n",
       "  'everything_merged_',\n",
       "  'everything_mergedshell4mm_',\n",
       "  'everything_merged40%_',\n",
       "  'everything_mergeddilat4mm_',\n",
       "  'everything_mergeddilat8mm_',\n",
       "  'everything_mergedshell8mm_',\n",
       "  'everything_mergeddilat2mm_',\n",
       "  'everything_mergeddilat1mm_',\n",
       "  'everything_merged2.5_',\n",
       "  'extra_features'])"
      ]
     },
     "execution_count": 3,
     "metadata": {},
     "output_type": "execute_result"
    }
   ],
   "source": [
    "features = list(set(df.columns.tolist()) - set(['Relapse', 'RFS', 'Task 1', 'Task 2', 'CenterID']))\n",
    "features = [x for x in features if 'lesions_merged' not in x and 'lymphnodes_merged' not in x]\n",
    "extra_features = ['Gender',\n",
    "                  'Age',\n",
    "                  'Weight',\n",
    "                  'Tobacco',\n",
    "                  'Alcohol',\n",
    "                  'Performance status',\n",
    "                  'HPV status (0=-, 1=+)',\n",
    "                  'Surgery',\n",
    "                  'Chemotherapy', 'nb_lesions', 'nb_lymphnodes', 'whole_body_scan']\n",
    "\n",
    "features_groups = np.unique([x.split('_shape_')[0].split('_PT_')[0].split('_CT_')[0] for x in features])\n",
    "features_groups = list(set(features_groups) - set(extra_features))\n",
    "features_groups = [x + '_' for x in features_groups]\n",
    "features_groups.append('extra_features')\n",
    "len(features_groups), features_groups"
   ]
  },
  {
   "cell_type": "code",
   "execution_count": 4,
   "id": "2e74502b",
   "metadata": {
    "ExecuteTime": {
     "end_time": "2022-09-19T15:27:37.295015Z",
     "start_time": "2022-09-19T15:27:37.266253Z"
    }
   },
   "outputs": [],
   "source": [
    "y = Surv.from_arrays(event=df['Relapse'].values,\n",
    "                     time=df['RFS'].values)\n",
    "X = df[features]\n",
    "mask_keep = (X.isna().sum(axis=1) < 1000).values\n",
    "X, y = X.iloc[mask_keep], y[mask_keep]"
   ]
  },
  {
   "cell_type": "code",
   "execution_count": 5,
   "id": "0296e006",
   "metadata": {
    "ExecuteTime": {
     "end_time": "2022-09-19T15:27:37.303458Z",
     "start_time": "2022-09-19T15:27:37.296534Z"
    }
   },
   "outputs": [],
   "source": [
    "features_groups_id = []\n",
    "for f in X.columns:\n",
    "    if f in extra_features:\n",
    "        features_groups_id.append(features_groups.index('extra_features'))\n",
    "    else:\n",
    "        group = f.split('_shape_')[0].split('_PT_')[0].split('_CT_')[0] + '_'\n",
    "        features_groups_id.append(features_groups.index(group))"
   ]
  },
  {
   "cell_type": "markdown",
   "id": "fca47a6d",
   "metadata": {},
   "source": [
    "# Hyperparameters sets search"
   ]
  },
  {
   "cell_type": "code",
   "execution_count": 6,
   "id": "efc23715",
   "metadata": {
    "ExecuteTime": {
     "end_time": "2022-09-19T15:27:37.579373Z",
     "start_time": "2022-09-19T15:27:37.564068Z"
    }
   },
   "outputs": [],
   "source": [
    "def worker_cv_paral(model, X, y, feature_group, train_index, test_index):\n",
    "    try:\n",
    "        model.fit(X.iloc[train_index], y[train_index], feature_groups=feature_group)\n",
    "        pred = model.predict(X.iloc[test_index])\n",
    "        return harrell_cindex(y[test_index], pred)\n",
    "    except:\n",
    "        return np.nan\n",
    "\n",
    "def cv_paral(model, X, y, feature_group, n_folds):\n",
    "    cv = ShuffleSplit(n_splits=n_folds, test_size=.5)\n",
    "    scores = Parallel(n_jobs=-1)(delayed(worker_cv_paral)(model, X, y, feature_group, train_index, test_index)\n",
    "                                 for train_index, test_index in cv.split(X))\n",
    "\n",
    "    return np.nanmean(scores)"
   ]
  },
  {
   "cell_type": "code",
   "execution_count": 7,
   "id": "516f13a4",
   "metadata": {
    "ExecuteTime": {
     "end_time": "2022-09-19T15:27:38.460377Z",
     "start_time": "2022-09-19T15:27:38.450361Z"
    }
   },
   "outputs": [],
   "source": [
    "def get_random_params():\n",
    "     return {\n",
    "    'max_features': np.random.uniform(1/len(features), 500/len(features)),\n",
    "    'rho': np.round_(np.random.uniform(0.2,0.9), 2),\n",
    "    'cmin': np.round_(np.random.uniform(0.5,0.6), 2),\n",
    "    'mandatory_features': extra_features,\n",
    "    'features_groups_to_use': np.random.choice(features_groups,\n",
    "                                               np.random.randint(len(features_groups)),\n",
    "                                               replace=False).tolist()\n",
    "}"
   ]
  },
  {
   "cell_type": "code",
   "execution_count": 8,
   "id": "0ded9886",
   "metadata": {
    "ExecuteTime": {
     "end_time": "2022-09-19T15:25:32.895970Z",
     "start_time": "2022-09-19T15:25:20.276909Z"
    }
   },
   "outputs": [
    {
     "name": "stderr",
     "output_type": "stream",
     "text": [
      " 10%|█         | 1/10 [00:02<00:23,  2.58s/it]"
     ]
    },
    {
     "name": "stdout",
     "output_type": "stream",
     "text": [
      "New best:\n",
      "0.6096507501248235\n",
      "{'max_features': 0.09673842853026991, 'rho': 0.51, 'cmin': 0.55, 'mandatory_features': ['Gender', 'Age', 'Weight', 'Tobacco', 'Alcohol', 'Performance status', 'HPV status (0=-, 1=+)', 'Surgery', 'Chemotherapy', 'nb_lesions', 'nb_lymphnodes', 'whole_body_scan'], 'features_groups_to_use': ['everything_mergeddilat1mm_', 'extra_features', 'everything_mergeddilat4mm_', 'everything_merged4_', 'everything_merged40%_', 'everything_mergeddilat2mm_', 'everything_merged_', 'everything_mergedshell2mm_', 'everything_mergeddilat16mm_', 'everything_mergedshell8mm_']}\n",
      "\n"
     ]
    },
    {
     "name": "stderr",
     "output_type": "stream",
     "text": [
      "\r",
      " 20%|██        | 2/10 [00:04<00:16,  2.06s/it]"
     ]
    },
    {
     "name": "stdout",
     "output_type": "stream",
     "text": [
      "New best:\n",
      "0.62245853784188\n",
      "{'max_features': 0.06122424281460999, 'rho': 0.35, 'cmin': 0.51, 'mandatory_features': ['Gender', 'Age', 'Weight', 'Tobacco', 'Alcohol', 'Performance status', 'HPV status (0=-, 1=+)', 'Surgery', 'Chemotherapy', 'nb_lesions', 'nb_lymphnodes', 'whole_body_scan'], 'features_groups_to_use': ['everything_mergeddilat4mm_', 'everything_mergedBBox_', 'everything_mergeddilat1mm_', 'extra_features']}\n",
      "\n"
     ]
    },
    {
     "name": "stderr",
     "output_type": "stream",
     "text": [
      "\r",
      " 30%|███       | 3/10 [00:05<00:11,  1.58s/it]"
     ]
    },
    {
     "name": "stdout",
     "output_type": "stream",
     "text": [
      "New best:\n",
      "0.6248519739781531\n",
      "{'max_features': 0.17604502290118526, 'rho': 0.6, 'cmin': 0.5, 'mandatory_features': ['Gender', 'Age', 'Weight', 'Tobacco', 'Alcohol', 'Performance status', 'HPV status (0=-, 1=+)', 'Surgery', 'Chemotherapy', 'nb_lesions', 'nb_lymphnodes', 'whole_body_scan'], 'features_groups_to_use': ['extra_features', 'everything_merged2.5_', 'everything_mergeddilat16mm_']}\n",
      "\n"
     ]
    },
    {
     "name": "stderr",
     "output_type": "stream",
     "text": [
      "100%|██████████| 10/10 [00:12<00:00,  1.26s/it]\n"
     ]
    }
   ],
   "source": [
    "from tqdm import tqdm\n",
    "best_score = None\n",
    "for _ in tqdm(range(10)):\n",
    "    params = get_random_params()\n",
    "    score = cv_paral(IcareSurv(**params), X, y, features_groups_id, n_folds=30)\n",
    "    if best_score is None or best_score < score:\n",
    "        best_score = score\n",
    "        print('New best:')\n",
    "        print(best_score)\n",
    "        print(params)\n",
    "        print()"
   ]
  },
  {
   "cell_type": "code",
   "execution_count": null,
   "id": "5d605225",
   "metadata": {},
   "outputs": [],
   "source": []
  },
  {
   "cell_type": "code",
   "execution_count": null,
   "id": "d6615953",
   "metadata": {
    "ExecuteTime": {
     "start_time": "2022-09-19T15:41:25.405Z"
    }
   },
   "outputs": [
    {
     "name": "stderr",
     "output_type": "stream",
     "text": [
      " 42%|████▏     | 21/50 [10:00<13:37, 28.18s/it]"
     ]
    }
   ],
   "source": [
    "all_params_sets, all_scores = [], []\n",
    "for _ in tqdm(range(50)):\n",
    "    params = get_random_params()\n",
    "    model = BaggedIcareSurv(n_estimators=50,\n",
    "                            parameters_sets=[params],\n",
    "                            aggregation_method='median',\n",
    "                            n_jobs=1)\n",
    "    score = cv_paral(model, X, y, features_groups_id, n_folds=32)\n",
    "    all_params_sets.append(params)\n",
    "    all_scores.append(score)\n",
    "sort_idx = np.argsort(all_scores)[::-1]\n",
    "all_params_sets = np.array(all_params_sets)[sort_idx]\n",
    "all_scores = np.array(all_scores)[sort_idx]"
   ]
  },
  {
   "cell_type": "code",
   "execution_count": null,
   "id": "79681614",
   "metadata": {
    "ExecuteTime": {
     "start_time": "2022-09-19T15:41:27.346Z"
    }
   },
   "outputs": [],
   "source": [
    "all_scores[:5]"
   ]
  },
  {
   "cell_type": "code",
   "execution_count": null,
   "id": "9b86593f",
   "metadata": {
    "ExecuteTime": {
     "start_time": "2022-09-19T15:41:35.445Z"
    }
   },
   "outputs": [],
   "source": [
    "all_score, all_nb_sets = [], []\n",
    "for nb_sets in tqdm(range(1, 20)):\n",
    "    sets = all_params_sets[:nb_sets]\n",
    "    model = BaggedIcareSurv(n_estimators=50,\n",
    "                            parameters_sets=sets,\n",
    "                            aggregation_method='median',\n",
    "                            n_jobs=1)\n",
    "    score = cv_paral(model, X, y, features_groups_id, n_folds=32)\n",
    "    all_nb_sets.append(nb_sets)\n",
    "    all_score.append(score)\n",
    "best_nb_sets = all_nb_sets[np.argmax(all_score)]\n",
    "print(\"best_nb_sets\", best_nb_sets)\n",
    "plt.plot(all_nb_sets, all_score)\n",
    "plt.show()\n",
    "hyperparameters_sets = all_params_sets[:best_nb_sets]\n",
    "print('best hyperparameters_sets:')\n",
    "for x in hyperparameters_sets:\n",
    "    print(x)"
   ]
  },
  {
   "cell_type": "code",
   "execution_count": null,
   "id": "c10089cc",
   "metadata": {
    "ExecuteTime": {
     "start_time": "2022-09-19T15:41:39.339Z"
    }
   },
   "outputs": [],
   "source": [
    "model = BaggedIcareSurv(n_estimators=50,\n",
    "                        parameters_sets=hyperparameters_sets,\n",
    "                        aggregation_method='median',\n",
    "                        n_jobs=1)\n",
    "score = cv_paral(model, X, y, features_groups_id, n_folds=32)\n",
    "score"
   ]
  },
  {
   "cell_type": "code",
   "execution_count": null,
   "id": "de86942c",
   "metadata": {},
   "outputs": [],
   "source": [
    "10 0.6389"
   ]
  }
 ],
 "metadata": {
  "kernelspec": {
   "display_name": "icare_env",
   "language": "python",
   "name": "icare_env"
  },
  "language_info": {
   "codemirror_mode": {
    "name": "ipython",
    "version": 3
   },
   "file_extension": ".py",
   "mimetype": "text/x-python",
   "name": "python",
   "nbconvert_exporter": "python",
   "pygments_lexer": "ipython3",
   "version": "3.6.13"
  }
 },
 "nbformat": 4,
 "nbformat_minor": 5
}
