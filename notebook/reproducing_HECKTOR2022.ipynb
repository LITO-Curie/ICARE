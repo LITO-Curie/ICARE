{
 "cells": [
  {
   "cell_type": "code",
   "execution_count": 39,
   "id": "4836ddfb",
   "metadata": {},
   "outputs": [],
   "source": [
    "import numpy as np\n",
    "import pandas as pd\n",
    "from sksurv.util import Surv\n",
    "from tqdm import tqdm\n",
    "from icare.survival import IcareSurv, BaggedIcareSurv\n",
    "from sklearn.model_selection import cross_val_score, ShuffleSplit\n",
    "from joblib import Parallel, delayed\n",
    "from icare.metrics import harrell_cindex\n",
    "import matplotlib.pyplot as plt"
   ]
  },
  {
   "cell_type": "code",
   "execution_count": 3,
   "id": "bdba2948",
   "metadata": {},
   "outputs": [
    {
     "data": {
      "text/plain": [
       "(486, 2433)"
      ]
     },
     "execution_count": 3,
     "metadata": {},
     "output_type": "execute_result"
    }
   ],
   "source": [
    "df = pd.read_csv('../data/df_train.csv', index_col='PatientID')\n",
    "df.shape"
   ]
  },
  {
   "cell_type": "code",
   "execution_count": 7,
   "id": "3c0a9d8e",
   "metadata": {},
   "outputs": [
    {
     "data": {
      "text/plain": [
       "(14,\n",
       " ['everything_mergeddilat16mm_',\n",
       "  'everything_mergeddilat2mm_',\n",
       "  'everything_mergeddilat8mm_',\n",
       "  'everything_mergeddilat1mm_',\n",
       "  'everything_merged2.5_',\n",
       "  'everything_merged4_',\n",
       "  'everything_merged_',\n",
       "  'everything_merged40%_',\n",
       "  'everything_mergedshell4mm_',\n",
       "  'everything_mergedshell8mm_',\n",
       "  'everything_mergeddilat4mm_',\n",
       "  'everything_mergedBBox_',\n",
       "  'everything_mergedshell2mm_',\n",
       "  'extra_features'])"
      ]
     },
     "execution_count": 7,
     "metadata": {},
     "output_type": "execute_result"
    }
   ],
   "source": [
    "features = list(set(df.columns.tolist()) - set(['Relapse', 'RFS', 'Task 1', 'Task 2', 'CenterID']))\n",
    "features = [x for x in features if 'lesions_merged' not in x and 'lymphnodes_merged' not in x]\n",
    "extra_features = ['Gender',\n",
    "                  'Age',\n",
    "                  'Weight',\n",
    "                  'Tobacco',\n",
    "                  'Alcohol',\n",
    "                  'Performance status',\n",
    "                  'HPV status (0=-, 1=+)',\n",
    "                  'Surgery',\n",
    "                  'Chemotherapy', 'nb_lesions', 'nb_lymphnodes', 'whole_body_scan']\n",
    "\n",
    "features_groups = np.unique([x.split('_shape_')[0].split('_PT_')[0].split('_CT_')[0] for x in features])\n",
    "features_groups = list(set(features_groups) - set(extra_features))\n",
    "features_groups = [x + '_' for x in features_groups]\n",
    "features_groups.append('extra_features')\n",
    "len(features_groups), features_groups"
   ]
  },
  {
   "cell_type": "code",
   "execution_count": 45,
   "id": "15c46374",
   "metadata": {},
   "outputs": [],
   "source": [
    "features_groups_id = []\n",
    "for f in X.columns:\n",
    "    if f in extra_features:\n",
    "        features_groups_id.append(features_groups.index('extra_features'))\n",
    "    else:\n",
    "        group = f.split('_shape_')[0].split('_PT_')[0].split('_CT_')[0] + '_'\n",
    "        features_groups_id.append(features_groups.index(group))"
   ]
  },
  {
   "cell_type": "code",
   "execution_count": 40,
   "id": "194f1fca",
   "metadata": {},
   "outputs": [],
   "source": [
    "y = Surv.from_arrays(event=df['Relapse'].values,\n",
    "                     time=df['RFS'].values)\n",
    "X = df[features]\n",
    "mask_keep = (X.isna().sum(axis=1) < 1000).values\n",
    "X, y = X.iloc[mask_keep], y[mask_keep]"
   ]
  },
  {
   "cell_type": "markdown",
   "id": "d24142b4",
   "metadata": {},
   "source": [
    "# Hyperparameters sets search"
   ]
  },
  {
   "cell_type": "code",
   "execution_count": 41,
   "id": "2724fbd8",
   "metadata": {},
   "outputs": [],
   "source": [
    "def worker_cv_paral(model, X, y, feature_group, train_index, test_index):\n",
    "    try:\n",
    "        model.fit(X.iloc[train_index], y[train_index], feature_groups=feature_group)\n",
    "        pred = model.predict(X.iloc[test_index])\n",
    "        return harrell_cindex(y[test_index], pred)\n",
    "    except:\n",
    "        return np.nan\n",
    "\n",
    "def cv_paral(model, X, y, feature_group, n_folds):\n",
    "    cv = ShuffleSplit(n_splits=n_folds, test_size=.5)\n",
    "    scores = Parallel(n_jobs=-1)(delayed(worker_cv_paral)(model, X, y, feature_group, train_index, test_index)\n",
    "                                 for train_index, test_index in cv.split(X))\n",
    "\n",
    "    return np.nanmean(scores)"
   ]
  },
  {
   "cell_type": "code",
   "execution_count": 42,
   "id": "232a4c1e",
   "metadata": {},
   "outputs": [],
   "source": [
    "def get_random_params():\n",
    "     return {\n",
    "    'max_features': np.random.uniform(1/len(features), 500/len(features)),\n",
    "    'rho': np.round_(np.random.uniform(0.2,0.9), 2),\n",
    "    'cmin': np.round_(np.random.uniform(0.5,0.6), 2),\n",
    "    'mandatory_features': extra_features,\n",
    "    'features_groups_to_use': np.random.choice(features_groups,\n",
    "                                               np.random.randint(len(features_groups)),\n",
    "                                               replace=False).tolist()\n",
    "}"
   ]
  },
  {
   "cell_type": "code",
   "execution_count": 55,
   "id": "4a5254a3",
   "metadata": {},
   "outputs": [
    {
     "name": "stderr",
     "output_type": "stream",
     "text": [
      " 10%|█         | 1/10 [00:02<00:24,  2.70s/it]"
     ]
    },
    {
     "name": "stdout",
     "output_type": "stream",
     "text": [
      "New best:\n",
      "0.6429870243956214\n",
      "{'max_features': 0.15388498589587737, 'rho': 0.61, 'cmin': 0.5, 'mandatory_features': ['Gender', 'Age', 'Weight', 'Tobacco', 'Alcohol', 'Performance status', 'HPV status (0=-, 1=+)', 'Surgery', 'Chemotherapy', 'nb_lesions', 'nb_lymphnodes', 'whole_body_scan'], 'features_groups_to_use': ['everything_mergedshell4mm_', 'everything_merged2.5_', 'everything_mergeddilat2mm_', 'everything_mergedshell8mm_', 'everything_mergeddilat16mm_']}\n",
      "\n"
     ]
    },
    {
     "name": "stderr",
     "output_type": "stream",
     "text": [
      "100%|██████████| 10/10 [00:26<00:00,  2.64s/it]\n"
     ]
    }
   ],
   "source": [
    "from tqdm import tqdm\n",
    "best_score = None\n",
    "for _ in tqdm(range(10)):\n",
    "    params = get_random_params()\n",
    "    score = cv_paral(IcareSurv(**params), X, y, features_groups_id, n_folds=30)\n",
    "    if best_score is None or best_score < score:\n",
    "        best_score = score\n",
    "        print('New best:')\n",
    "        print(best_score)\n",
    "        print(params)\n",
    "        print()"
   ]
  },
  {
   "cell_type": "code",
   "execution_count": 52,
   "id": "b9d5b7a0",
   "metadata": {},
   "outputs": [],
   "source": []
  },
  {
   "cell_type": "code",
   "execution_count": 75,
   "id": "54dc309e",
   "metadata": {},
   "outputs": [
    {
     "name": "stderr",
     "output_type": "stream",
     "text": [
      "100%|██████████| 10/10 [03:15<00:00, 19.50s/it]\n"
     ]
    }
   ],
   "source": [
    "all_params_sets, all_scores = [], []\n",
    "for _ in tqdm(range(10)):\n",
    "    params = get_random_params()\n",
    "    model = BaggedIcareSurv(n_estimators=10,\n",
    "                            parameters_sets=[params],\n",
    "                            aggregation_method='median',\n",
    "                            normalize_estimators=False,\n",
    "                            n_jobs=1,\n",
    "                            random_state=None)\n",
    "    score = cv_paral(model, X, y, features_groups_id, n_folds=32)\n",
    "    all_params_sets.append(params)\n",
    "    all_scores.append(score)\n",
    "sort_idx = np.argsort(all_scores)[::-1]\n",
    "all_params_sets = np.array(all_params_sets)[sort_idx]\n",
    "all_scores = np.array(all_scores)[sort_idx]"
   ]
  },
  {
   "cell_type": "code",
   "execution_count": 77,
   "id": "ad00ea3e",
   "metadata": {},
   "outputs": [
    {
     "name": "stderr",
     "output_type": "stream",
     "text": [
      "100%|██████████| 19/19 [06:19<00:00, 19.98s/it]\n"
     ]
    },
    {
     "name": "stdout",
     "output_type": "stream",
     "text": [
      "best_nb_sets 8\n"
     ]
    },
    {
     "data": {
      "image/png": "[encoded data removed]",
      "text/plain": [
       "<Figure size 432x288 with 1 Axes>"
      ]
     },
     "metadata": {
      "needs_background": "light"
     },
     "output_type": "display_data"
    },
    {
     "name": "stdout",
     "output_type": "stream",
     "text": [
      "best hyperparameters_sets:\n",
      "[{'max_features': 0.08343202443344275, 'rho': 0.72, 'cmin': 0.55, 'mandatory_features': ['Gender', 'Age', 'Weight', 'Tobacco', 'Alcohol', 'Performance status', 'HPV status (0=-, 1=+)', 'Surgery', 'Chemotherapy', 'nb_lesions', 'nb_lymphnodes', 'whole_body_scan'], 'features_groups_to_use': ['everything_merged2.5_', 'everything_merged4_']}, {'max_features': 0.17525522958478074, 'rho': 0.82, 'cmin': 0.56, 'mandatory_features': ['Gender', 'Age', 'Weight', 'Tobacco', 'Alcohol', 'Performance status', 'HPV status (0=-, 1=+)', 'Surgery', 'Chemotherapy', 'nb_lesions', 'nb_lymphnodes', 'whole_body_scan'], 'features_groups_to_use': ['everything_mergeddilat1mm_', 'everything_mergedBBox_', 'everything_merged40%_', 'everything_merged2.5_', 'everything_mergedshell2mm_', 'extra_features', 'everything_mergeddilat2mm_', 'everything_merged_', 'everything_mergeddilat4mm_', 'everything_merged4_', 'everything_mergedshell4mm_']}, {'max_features': 0.04680860824764917, 'rho': 0.61, 'cmin': 0.58, 'mandatory_features': ['Gender', 'Age', 'Weight', 'Tobacco', 'Alcohol', 'Performance status', 'HPV status (0=-, 1=+)', 'Surgery', 'Chemotherapy', 'nb_lesions', 'nb_lymphnodes', 'whole_body_scan'], 'features_groups_to_use': ['everything_mergeddilat1mm_']}, {'max_features': 0.204373784036737, 'rho': 0.86, 'cmin': 0.5, 'mandatory_features': ['Gender', 'Age', 'Weight', 'Tobacco', 'Alcohol', 'Performance status', 'HPV status (0=-, 1=+)', 'Surgery', 'Chemotherapy', 'nb_lesions', 'nb_lymphnodes', 'whole_body_scan'], 'features_groups_to_use': ['extra_features']}, {'max_features': 0.08177073393705099, 'rho': 0.67, 'cmin': 0.55, 'mandatory_features': ['Gender', 'Age', 'Weight', 'Tobacco', 'Alcohol', 'Performance status', 'HPV status (0=-, 1=+)', 'Surgery', 'Chemotherapy', 'nb_lesions', 'nb_lymphnodes', 'whole_body_scan'], 'features_groups_to_use': ['everything_mergedBBox_', 'extra_features', 'everything_merged_', 'everything_mergeddilat2mm_', 'everything_merged4_', 'everything_merged2.5_', 'everything_mergeddilat8mm_', 'everything_mergeddilat16mm_', 'everything_merged40%_', 'everything_mergeddilat1mm_', 'everything_mergeddilat4mm_', 'everything_mergedshell2mm_']}, {'max_features': 0.17201494444510837, 'rho': 0.69, 'cmin': 0.6, 'mandatory_features': ['Gender', 'Age', 'Weight', 'Tobacco', 'Alcohol', 'Performance status', 'HPV status (0=-, 1=+)', 'Surgery', 'Chemotherapy', 'nb_lesions', 'nb_lymphnodes', 'whole_body_scan'], 'features_groups_to_use': ['everything_merged2.5_', 'everything_mergedshell8mm_', 'everything_mergeddilat2mm_', 'extra_features', 'everything_mergedshell4mm_', 'everything_merged_', 'everything_merged4_', 'everything_mergeddilat1mm_']}, {'max_features': 0.205023424836669, 'rho': 0.66, 'cmin': 0.55, 'mandatory_features': ['Gender', 'Age', 'Weight', 'Tobacco', 'Alcohol', 'Performance status', 'HPV status (0=-, 1=+)', 'Surgery', 'Chemotherapy', 'nb_lesions', 'nb_lymphnodes', 'whole_body_scan'], 'features_groups_to_use': ['everything_mergeddilat16mm_', 'everything_mergedshell2mm_', 'everything_merged4_']}, {'max_features': 0.1342520931752281, 'rho': 0.77, 'cmin': 0.6, 'mandatory_features': ['Gender', 'Age', 'Weight', 'Tobacco', 'Alcohol', 'Performance status', 'HPV status (0=-, 1=+)', 'Surgery', 'Chemotherapy', 'nb_lesions', 'nb_lymphnodes', 'whole_body_scan'], 'features_groups_to_use': ['everything_merged40%_', 'everything_mergedshell4mm_', 'everything_merged2.5_', 'everything_mergeddilat2mm_', 'everything_mergeddilat16mm_']}]\n"
     ]
    }
   ],
   "source": [
    "all_score, all_nb_sets = [], []\n",
    "for nb_sets in tqdm(range(1, 20)):\n",
    "    sets = all_params_sets[:nb_sets]\n",
    "    model = BaggedIcareSurv(n_estimators=10,\n",
    "                            parameters_sets=sets,\n",
    "                            aggregation_method='median',\n",
    "                            normalize_estimators=False,\n",
    "                            n_jobs=1,\n",
    "                            random_state=None)\n",
    "    score = cv_paral(model, X, y, features_groups_id, n_folds=32)\n",
    "    all_nb_sets.append(nb_sets)\n",
    "    all_score.append(score)\n",
    "best_nb_sets = all_nb_sets[np.argmax(all_score)]\n",
    "print(\"best_nb_sets\", best_nb_sets)\n",
    "plt.plot(all_nb_sets, all_score)\n",
    "plt.show()\n",
    "hyperparameters_sets = all_params_sets[:best_nb_sets]\n",
    "print('best hyperparameters_sets:')\n",
    "for x in hyperparameters_sets:\n",
    "    print(x)"
   ]
  },
  {
   "cell_type": "code",
   "execution_count": 78,
   "id": "fe5c332d",
   "metadata": {},
   "outputs": [
    {
     "data": {
      "text/plain": [
       "0.6326343450732923"
      ]
     },
     "execution_count": 78,
     "metadata": {},
     "output_type": "execute_result"
    }
   ],
   "source": [
    "model = BaggedIcareSurv(n_estimators=10,\n",
    "                        parameters_sets=hyperparameters_sets,\n",
    "                        aggregation_method='median',\n",
    "                        normalize_estimators=False,\n",
    "                        n_jobs=1,\n",
    "                        random_state=None)\n",
    "score = cv_paral(model, X, y, features_groups_id, n_folds=256)\n",
    "score"
   ]
  },
  {
   "cell_type": "code",
   "execution_count": null,
   "id": "15b023e2",
   "metadata": {},
   "outputs": [],
   "source": []
  }
 ],
 "metadata": {
  "kernelspec": {
   "display_name": "icare_env",
   "language": "python",
   "name": "icare_env"
  },
  "language_info": {
   "codemirror_mode": {
    "name": "ipython",
    "version": 3
   },
   "file_extension": ".py",
   "mimetype": "text/x-python",
   "name": "python",
   "nbconvert_exporter": "python",
   "pygments_lexer": "ipython3",
   "version": "3.6.13"
  }
 },
 "nbformat": 4,
 "nbformat_minor": 5
}
