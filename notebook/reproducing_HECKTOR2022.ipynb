{
 "cells": [
  {
   "cell_type": "markdown",
   "id": "569b85c0",
   "metadata": {},
   "source": [
    "# Reproducing HECKTOR 2022 predictions\n",
    "\n",
    "In this notebook, we show how we produced the predictions that we submitted for the [HECKTOR 2022 challenge](https://hecktor.grand-challenge.org/) outcome prediction task (Task 2). This model achieved 0.68152 of C-index, ranking first."
   ]
  },
  {
   "cell_type": "code",
   "execution_count": null,
   "id": "3f633902",
   "metadata": {
    "ExecuteTime": {
     "end_time": "2022-09-21T07:34:04.755800Z",
     "start_time": "2022-09-21T07:34:04.592030Z"
    }
   },
   "outputs": [],
   "source": [
    "import numpy as np\n",
    "import pandas as pd\n",
    "import matplotlib.pyplot as plt\n",
    "from sksurv.util import Surv\n",
    "from scipy.stats import spearmanr, pearsonr\n",
    "\n",
    "from icare.survival import BaggedIcareSurv\n",
    "from icare.visualiation import plot_avg_sign"
   ]
  },
  {
   "cell_type": "markdown",
   "id": "9b93bc22",
   "metadata": {},
   "source": [
    "We load the CSV built from the radiomic features extraction step. The code of this step will be published soon. In the mean time please refere to the paper:\n",
    "\n",
    "> Rebaud, L.\\*, Escobar, T.\\*, Khalid, F., Girum, K., Buvat, I.: Head and Neck Tumor and Lymph Node \n",
    "Segmentation and Outcome Prediction from 18F-FDG PET/CT Images: Simplicity is All You Need. \n",
    "In: Lecture Notes in Computer Science (LNCS) Challenges (under review)\n",
    "\n",
    "\n",
    "Note that the number of patients in the train CSV is not 488 but 486. It is due to our segmentation step predicting only background without lesion for 2 patients."
   ]
  },
  {
   "cell_type": "code",
   "execution_count": 3,
   "id": "dc6f96b1",
   "metadata": {
    "ExecuteTime": {
     "end_time": "2022-09-21T07:34:05.516760Z",
     "start_time": "2022-09-21T07:34:04.758167Z"
    }
   },
   "outputs": [
    {
     "data": {
      "text/plain": [
       "((486, 2433), (339, 2430))"
      ]
     },
     "execution_count": 3,
     "metadata": {},
     "output_type": "execute_result"
    }
   ],
   "source": [
    "df_train = pd.read_csv('../data/df_train.csv', index_col='PatientID')\n",
    "df_test = pd.read_csv('../data/df_test.csv', index_col='PatientID')\n",
    "df_train.shape, df_test.shape"
   ]
  },
  {
   "cell_type": "markdown",
   "id": "50a99588",
   "metadata": {},
   "source": [
    "We list all the features in the CSV and determine their respective group."
   ]
  },
  {
   "cell_type": "code",
   "execution_count": 3,
   "id": "9e9ac392",
   "metadata": {
    "ExecuteTime": {
     "end_time": "2022-09-20T16:36:16.549132Z",
     "start_time": "2022-09-20T16:36:16.537320Z"
    }
   },
   "outputs": [
    {
     "data": {
      "text/plain": [
       "(14,\n",
       " ['everything_mergeddilat4mm_',\n",
       "  'everything_mergeddilat8mm_',\n",
       "  'everything_mergeddilat16mm_',\n",
       "  'everything_mergeddilat2mm_',\n",
       "  'everything_mergedshell2mm_',\n",
       "  'everything_merged_',\n",
       "  'everything_mergedshell8mm_',\n",
       "  'everything_mergedBBox_',\n",
       "  'everything_merged4_',\n",
       "  'everything_merged2.5_',\n",
       "  'everything_mergedshell4mm_',\n",
       "  'everything_merged40%_',\n",
       "  'everything_mergeddilat1mm_',\n",
       "  'extra_features'])"
      ]
     },
     "execution_count": 3,
     "metadata": {},
     "output_type": "execute_result"
    }
   ],
   "source": [
    "features = list(set(df_train.columns.tolist()) - set(['Relapse', 'RFS', 'Task 1', 'Task 2', 'CenterID']))\n",
    "features = [x for x in features if 'lesions_merged' not in x and 'lymphnodes_merged' not in x]\n",
    "extra_features = ['Gender',\n",
    "                  'Age',\n",
    "                  'Weight',\n",
    "                  'Tobacco',\n",
    "                  'Alcohol',\n",
    "                  'Performance status',\n",
    "                  'HPV status (0=-, 1=+)',\n",
    "                  'Surgery',\n",
    "                  'Chemotherapy',\n",
    "                  'nb_lesions',\n",
    "                  'nb_lymphnodes',\n",
    "                  'whole_body_scan']\n",
    "\n",
    "features_groups = np.unique([x.split('_shape_')[0].split('_PT_')[0].split('_CT_')[0] for x in features])\n",
    "features_groups = list(set(features_groups) - set(extra_features))\n",
    "features_groups = [x + '_' for x in features_groups]\n",
    "features_groups.append('extra_features')\n",
    "len(features_groups), features_groups"
   ]
  },
  {
   "cell_type": "markdown",
   "id": "f13815d4",
   "metadata": {},
   "source": [
    "We then encode these groups with index values."
   ]
  },
  {
   "cell_type": "code",
   "execution_count": 6,
   "id": "0296e006",
   "metadata": {
    "ExecuteTime": {
     "end_time": "2022-09-20T16:36:17.870240Z",
     "start_time": "2022-09-20T16:36:17.853016Z"
    }
   },
   "outputs": [],
   "source": [
    "features_groups_id = []\n",
    "for f in X_train.columns:\n",
    "    if f in extra_features:\n",
    "        features_groups_id.append(features_groups.index('extra_features'))\n",
    "    else:\n",
    "        group = f.split('_shape_')[0].split('_PT_')[0].split('_CT_')[0] + '_'\n",
    "        features_groups_id.append(features_groups.index(group))"
   ]
  },
  {
   "cell_type": "markdown",
   "id": "dbbcaac0",
   "metadata": {},
   "source": [
    "We format the CSV to get compatible X (the input of the model as a DataFrame) for the train and test CSV.\n",
    "\n",
    "We also format the target values RFS and Relapse as a sksurv structured array so the ICARE model can use it."
   ]
  },
  {
   "cell_type": "code",
   "execution_count": 4,
   "id": "2e74502b",
   "metadata": {
    "ExecuteTime": {
     "end_time": "2022-09-20T16:36:16.734509Z",
     "start_time": "2022-09-20T16:36:16.687199Z"
    }
   },
   "outputs": [],
   "source": [
    "y_train = Surv.from_arrays(event=df_train['Relapse'].values,\n",
    "                           time=df_train['RFS'].values)\n",
    "X_train, X_test = df_train[features], df_test[features]"
   ]
  },
  {
   "cell_type": "markdown",
   "id": "721b7a40",
   "metadata": {},
   "source": [
    "Here are the results of the random search for hyperparameters tuning. 1000 random sets were evaluated with a 200-folds Monte Carlo cross-validation with a test size of 50%. The 5 best sets were selected to increase randomness and reduce the risk of overfitting compared to picking only the best set. Each estimator in the bagged model model will randomly pick a set in this list."
   ]
  },
  {
   "cell_type": "code",
   "execution_count": null,
   "id": "ed591497",
   "metadata": {},
   "outputs": [],
   "source": [
    "hyperparameters_sets = [\n",
    " {'rho': 0.66,\n",
    "  'cmin': 0.53,\n",
    "  'max_features': 0.00823045267489712,\n",
    "  'mandatory_features': extra_features,\n",
    "  'sign_method': 'harrell',\n",
    "  'features_groups_to_use': [2, 4, 8, 10]},\n",
    " {'rho': 0.72,\n",
    "  'cmin': 0.59,\n",
    "  'max_features': 0.009465020576131687,\n",
    "  'mandatory_features': extra_features,\n",
    "  'sign_method': 'harrell',\n",
    "  'features_groups_to_use': [3, 4, 10, 11, 12]},\n",
    " {'rho': 0.87,\n",
    "  'cmin': 0.55,\n",
    "  'max_features': 0.06131687242798354,\n",
    "  'mandatory_features': extra_features,\n",
    "  'sign_method': 'harrell',\n",
    "  'features_groups_to_use': [1, 3, 4, 10, 11, 12]},\n",
    " {'rho': 0.57,\n",
    "  'cmin': 0.51,\n",
    "  'max_features': 0.005761316872427984,\n",
    "  'mandatory_features': extra_features,\n",
    "  'sign_method': 'harrell',\n",
    "  'features_groups_to_use': [0, 2, 5, 6, 9, 11, 12]},\n",
    " {'rho': 0.71,\n",
    "  'cmin': 0.57,\n",
    "  'max_features': 0.16131687242798354,\n",
    "  'mandatory_features': extra_features,\n",
    "  'sign_method': 'harrell',\n",
    "  'features_groups_to_use': [4, 8, 12]}\n",
    "]"
   ]
  },
  {
   "cell_type": "markdown",
   "id": "0cb593bb",
   "metadata": {},
   "source": [
    "The bagged ICARE model is then trained with the whole train set and makes predictions on the test set. We observed that the higher the number of estimators, the better the predictions. Thus, the 100k estimators in this model to ensure we reached a plateau. For a reasonable computational cost, this can be decreased to 1000 or less."
   ]
  },
  {
   "cell_type": "code",
   "execution_count": null,
   "id": "f5de8278",
   "metadata": {
    "ExecuteTime": {
     "end_time": "2022-09-20T16:47:18.440027Z",
     "start_time": "2022-09-20T16:41:26.940013Z"
    }
   },
   "outputs": [],
   "source": [
    "model = BaggedIcareSurv(n_estimators=100000,\n",
    "                        parameters_sets=hyperparameters_sets,\n",
    "                        aggregation_method='median',\n",
    "                        n_jobs=-1)\n",
    "model.fit(X_train,y_train, feature_groups=features_groups_id)\n",
    "test_pred = model.predict(X_test)"
   ]
  },
  {
   "cell_type": "markdown",
   "id": "bc684721",
   "metadata": {},
   "source": [
    "To test for reproducibility, we load the CSV we submitted for the HECKTOR 2022 challenge and we check that the predictions made here are concordant with it."
   ]
  },
  {
   "cell_type": "code",
   "execution_count": null,
   "id": "9aeca57e",
   "metadata": {},
   "outputs": [],
   "source": [
    "pred_submitted = pd.read_csv('../data/LITO_Task2_louis3.csv', index_col='PatientID')"
   ]
  },
  {
   "cell_type": "code",
   "execution_count": 21,
   "id": "30c85ccc",
   "metadata": {
    "ExecuteTime": {
     "end_time": "2022-09-20T16:49:14.006165Z",
     "start_time": "2022-09-20T16:49:13.993515Z"
    }
   },
   "outputs": [
    {
     "data": {
      "text/plain": [
       "SpearmanrResult(correlation=0.9924675572695433, pvalue=2.25000223123305e-309)"
      ]
     },
     "execution_count": 21,
     "metadata": {},
     "output_type": "execute_result"
    }
   ],
   "source": [
    "spearmanr(pred_submitted['Prediction'], test_pred)"
   ]
  },
  {
   "cell_type": "code",
   "execution_count": null,
   "id": "c22c8cf7",
   "metadata": {},
   "outputs": [
    {
     "data": {
      "text/plain": [
       "(0.9884695691707174, 2.3132635273338386e-278)"
      ]
     },
     "execution_count": 30,
     "metadata": {},
     "output_type": "execute_result"
    }
   ],
   "source": [
    "pearsonr(pred_submitted['Prediction'], test_pred)"
   ]
  },
  {
   "cell_type": "code",
   "execution_count": 29,
   "id": "a585f803",
   "metadata": {
    "ExecuteTime": {
     "end_time": "2022-09-20T20:31:44.314769Z",
     "start_time": "2022-09-20T20:31:44.109728Z"
    }
   },
   "outputs": [
    {
     "data": {
      "image/png": "[encoded data removed]",
      "text/plain": [
       "<Figure size 432x288 with 1 Axes>"
      ]
     },
     "metadata": {},
     "output_type": "display_data"
    }
   ],
   "source": [
    "plt.scatter(pred_submitted['Prediction'], test_pred)\n",
    "plt.show()"
   ]
  },
  {
   "cell_type": "markdown",
   "id": "b39e5ad4",
   "metadata": {},
   "source": [
    "This last cell shows how to use the ICARE package to plot the average signs in the trained model to interpret it. We specify which features we want to display so the plot is lisible.\n",
    "\n",
    "A positive sign means that the feature is anti-concordant with the target value (e.g. decreases RFS when value increases, meaning a higher risk), and the other way around for a negative sign. A value close to zero mean that the feature sign was unstable. This can be due to a low predictive power."
   ]
  },
  {
   "cell_type": "code",
   "execution_count": 33,
   "id": "a25edad2",
   "metadata": {
    "ExecuteTime": {
     "end_time": "2022-09-21T07:27:06.466926Z",
     "start_time": "2022-09-21T07:27:05.746467Z"
    },
    "scrolled": false
   },
   "outputs": [
    {
     "data": {
      "image/png": "[encoded data removed]",
      "text/plain": [
       "<Figure size 504x432 with 1 Axes>"
      ]
     },
     "metadata": {},
     "output_type": "display_data"
    }
   ],
   "source": [
    "rad_extra = [\n",
    "'everything_merged_shape_Maximum2DDiameterRow',\n",
    "'everything_mergedBBox_CT_firstorder_90Percentile',\n",
    "'everything_merged40%_PT_gldm_HighGrayLevelEmphasis',\n",
    "'everything_mergedshell4mm_PT_gldm_LargeDependenceLowGrayLevelEmphasis',\n",
    "'everything_mergeddilat16mm_PT_firstorder_Kurtosis',\n",
    "'everything_mergeddilat4mm_shape_Flatness',\n",
    "]\n",
    "\n",
    "\n",
    "plot_avg_sign(model, features=extra+rad_extra)\n",
    "plt.show()"
   ]
  }
 ],
 "metadata": {
  "kernelspec": {
   "display_name": "icare_env",
   "language": "python",
   "name": "icare_env"
  },
  "language_info": {
   "codemirror_mode": {
    "name": "ipython",
    "version": 3
   },
   "file_extension": ".py",
   "mimetype": "text/x-python",
   "name": "python",
   "nbconvert_exporter": "python",
   "pygments_lexer": "ipython3",
   "version": "3.6.13"
  }
 },
 "nbformat": 4,
 "nbformat_minor": 5
}
