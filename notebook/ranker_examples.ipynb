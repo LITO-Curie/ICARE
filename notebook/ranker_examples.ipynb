{
 "cells": [
  {
   "cell_type": "markdown",
   "id": "30426b47",
   "metadata": {},
   "source": [
    "# Ranker examples\n",
    "\n",
    "In this notebook, we walk through the different usages of the ICARE package for ranking tasks (uncalibrated regression)."
   ]
  },
  {
   "cell_type": "code",
   "execution_count": 1,
   "id": "53cf02a3",
   "metadata": {},
   "outputs": [],
   "source": [
    "import pandas as pd\n",
    "from sklearn import datasets\n",
    "from icare.ranker import IcareRanker, BaggedIcareRanker\n",
    "from sklearn.metrics import f1_score\n",
    "from sklearn.model_selection import cross_val_score, ShuffleSplit\n",
    "from icare.visualisation import plot_avg_sign"
   ]
  },
  {
   "cell_type": "markdown",
   "id": "cc326e7d",
   "metadata": {},
   "source": [
    "We use the california_housing dataset from scikit-learn."
   ]
  },
  {
   "cell_type": "code",
   "execution_count": 27,
   "id": "daf3640f",
   "metadata": {
    "scrolled": true
   },
   "outputs": [
    {
     "data": {
      "text/plain": "       MedInc  HouseAge  AveRooms  AveBedrms  Population  AveOccup  Latitude  \\\n0      8.3252      41.0  6.984127   1.023810       322.0  2.555556     37.88   \n1      8.3014      21.0  6.238137   0.971880      2401.0  2.109842     37.86   \n2      7.2574      52.0  8.288136   1.073446       496.0  2.802260     37.85   \n3      5.6431      52.0  5.817352   1.073059       558.0  2.547945     37.85   \n4      3.8462      52.0  6.281853   1.081081       565.0  2.181467     37.85   \n...       ...       ...       ...        ...         ...       ...       ...   \n20635  1.5603      25.0  5.045455   1.133333       845.0  2.560606     39.48   \n20636  2.5568      18.0  6.114035   1.315789       356.0  3.122807     39.49   \n20637  1.7000      17.0  5.205543   1.120092      1007.0  2.325635     39.43   \n20638  1.8672      18.0  5.329513   1.171920       741.0  2.123209     39.43   \n20639  2.3886      16.0  5.254717   1.162264      1387.0  2.616981     39.37   \n\n       Longitude  \n0        -122.23  \n1        -122.22  \n2        -122.24  \n3        -122.25  \n4        -122.25  \n...          ...  \n20635    -121.09  \n20636    -121.21  \n20637    -121.22  \n20638    -121.32  \n20639    -121.24  \n\n[20640 rows x 8 columns]",
      "text/html": "<div>\n<style scoped>\n    .dataframe tbody tr th:only-of-type {\n        vertical-align: middle;\n    }\n\n    .dataframe tbody tr th {\n        vertical-align: top;\n    }\n\n    .dataframe thead th {\n        text-align: right;\n    }\n</style>\n<table border=\"1\" class=\"dataframe\">\n  <thead>\n    <tr style=\"text-align: right;\">\n      <th></th>\n      <th>MedInc</th>\n      <th>HouseAge</th>\n      <th>AveRooms</th>\n      <th>AveBedrms</th>\n      <th>Population</th>\n      <th>AveOccup</th>\n      <th>Latitude</th>\n      <th>Longitude</th>\n    </tr>\n  </thead>\n  <tbody>\n    <tr>\n      <th>0</th>\n      <td>8.3252</td>\n      <td>41.0</td>\n      <td>6.984127</td>\n      <td>1.023810</td>\n      <td>322.0</td>\n      <td>2.555556</td>\n      <td>37.88</td>\n      <td>-122.23</td>\n    </tr>\n    <tr>\n      <th>1</th>\n      <td>8.3014</td>\n      <td>21.0</td>\n      <td>6.238137</td>\n      <td>0.971880</td>\n      <td>2401.0</td>\n      <td>2.109842</td>\n      <td>37.86</td>\n      <td>-122.22</td>\n    </tr>\n    <tr>\n      <th>2</th>\n      <td>7.2574</td>\n      <td>52.0</td>\n      <td>8.288136</td>\n      <td>1.073446</td>\n      <td>496.0</td>\n      <td>2.802260</td>\n      <td>37.85</td>\n      <td>-122.24</td>\n    </tr>\n    <tr>\n      <th>3</th>\n      <td>5.6431</td>\n      <td>52.0</td>\n      <td>5.817352</td>\n      <td>1.073059</td>\n      <td>558.0</td>\n      <td>2.547945</td>\n      <td>37.85</td>\n      <td>-122.25</td>\n    </tr>\n    <tr>\n      <th>4</th>\n      <td>3.8462</td>\n      <td>52.0</td>\n      <td>6.281853</td>\n      <td>1.081081</td>\n      <td>565.0</td>\n      <td>2.181467</td>\n      <td>37.85</td>\n      <td>-122.25</td>\n    </tr>\n    <tr>\n      <th>...</th>\n      <td>...</td>\n      <td>...</td>\n      <td>...</td>\n      <td>...</td>\n      <td>...</td>\n      <td>...</td>\n      <td>...</td>\n      <td>...</td>\n    </tr>\n    <tr>\n      <th>20635</th>\n      <td>1.5603</td>\n      <td>25.0</td>\n      <td>5.045455</td>\n      <td>1.133333</td>\n      <td>845.0</td>\n      <td>2.560606</td>\n      <td>39.48</td>\n      <td>-121.09</td>\n    </tr>\n    <tr>\n      <th>20636</th>\n      <td>2.5568</td>\n      <td>18.0</td>\n      <td>6.114035</td>\n      <td>1.315789</td>\n      <td>356.0</td>\n      <td>3.122807</td>\n      <td>39.49</td>\n      <td>-121.21</td>\n    </tr>\n    <tr>\n      <th>20637</th>\n      <td>1.7000</td>\n      <td>17.0</td>\n      <td>5.205543</td>\n      <td>1.120092</td>\n      <td>1007.0</td>\n      <td>2.325635</td>\n      <td>39.43</td>\n      <td>-121.22</td>\n    </tr>\n    <tr>\n      <th>20638</th>\n      <td>1.8672</td>\n      <td>18.0</td>\n      <td>5.329513</td>\n      <td>1.171920</td>\n      <td>741.0</td>\n      <td>2.123209</td>\n      <td>39.43</td>\n      <td>-121.32</td>\n    </tr>\n    <tr>\n      <th>20639</th>\n      <td>2.3886</td>\n      <td>16.0</td>\n      <td>5.254717</td>\n      <td>1.162264</td>\n      <td>1387.0</td>\n      <td>2.616981</td>\n      <td>39.37</td>\n      <td>-121.24</td>\n    </tr>\n  </tbody>\n</table>\n<p>20640 rows × 8 columns</p>\n</div>"
     },
     "execution_count": 27,
     "metadata": {},
     "output_type": "execute_result"
    }
   ],
   "source": [
    "dts = datasets.fetch_california_housing()\n",
    "X, y = dts['data'], dts['target']\n",
    "X = pd.DataFrame(data=X, columns=dts['feature_names'])\n",
    "X"
   ]
  },
  {
   "cell_type": "markdown",
   "id": "b54a6954",
   "metadata": {},
   "source": [
    "Both `IcareRanker` and `BaggedIcareRanker` can be used like any other scikit-learn estimator."
   ]
  },
  {
   "cell_type": "code",
   "execution_count": 28,
   "id": "9a53c052",
   "metadata": {
    "ExecuteTime": {
     "end_time": "2022-09-19T15:51:11.437813Z",
     "start_time": "2022-09-19T15:51:10.099319Z"
    },
    "scrolled": true
   },
   "outputs": [
    {
     "name": "stdout",
     "output_type": "stream",
     "text": [
      "0.7312352415266431\n",
      "0.7186779783322461\n"
     ]
    }
   ],
   "source": [
    "from icare.metrics import harrell_cindex\n",
    "\n",
    "model = IcareRanker()\n",
    "model.fit(X, y)\n",
    "pred = model.predict(X)\n",
    "print(harrell_cindex(y, -pred))\n",
    "\n",
    "model = BaggedIcareRanker(n_estimators=100, n_jobs=-1)\n",
    "model.fit(X, y)\n",
    "pred = model.predict(X)\n",
    "print(harrell_cindex(y, -pred))"
   ]
  },
  {
   "cell_type": "markdown",
   "id": "ff03f5d3",
   "metadata": {},
   "source": [
    "They are compatible with any scikit-learn function."
   ]
  },
  {
   "cell_type": "code",
   "execution_count": 29,
   "id": "ba095426",
   "metadata": {
    "ExecuteTime": {
     "end_time": "2022-09-19T15:51:13.373768Z",
     "start_time": "2022-09-19T15:51:11.440915Z"
    }
   },
   "outputs": [
    {
     "name": "stdout",
     "output_type": "stream",
     "text": [
      "0.7185426671099321\n",
      "0.718883585984654\n"
     ]
    }
   ],
   "source": [
    "from icare.metrics import harrell_cindex_scorer\n",
    "\n",
    "print(1-cross_val_score(IcareRanker(), X, y,\n",
    "                      cv=ShuffleSplit(n_splits=10, test_size=.25, random_state=42),\n",
    "                      n_jobs=-1,\n",
    "                      scoring=harrell_cindex_scorer).mean())\n",
    "\n",
    "print(1-cross_val_score(BaggedIcareRanker(n_estimators=100,                                                 n_jobs=1),\n",
    "                      X, y,\n",
    "                      cv=ShuffleSplit(n_splits=10, test_size=.25, random_state=42),\n",
    "                      n_jobs=-1,\n",
    "                      scoring=harrell_cindex_scorer).mean())"
   ]
  },
  {
   "cell_type": "markdown",
   "id": "1a5d2788",
   "metadata": {},
   "source": [
    "For interpretation, you can use the `plot_avg_sign` function to plot the average signs of the features in the estimators of the `BaggedIcareRanker` model (one estimator per class).\n",
    "\n",
    "A positive sign means that the feature is concordant with the target value and the other way around for a negative sign. A value close to zero mean that the feature sign was unstable. This can be due to a low predictive power."
   ]
  },
  {
   "cell_type": "code",
   "execution_count": 32,
   "id": "880cce36",
   "metadata": {},
   "outputs": [
    {
     "data": {
      "text/plain": "<Figure size 640x480 with 1 Axes>",
      "image/png": "[encoded data removed]"
     },
     "metadata": {},
     "output_type": "display_data"
    }
   ],
   "source": [
    "model = BaggedIcareRanker(n_estimators=100, n_jobs=-1)\n",
    "\n",
    "\n",
    "model.fit(X,y)\n",
    "plot_avg_sign(model)"
   ]
  },
  {
   "cell_type": "code",
   "execution_count": 31,
   "outputs": [],
   "source": [],
   "metadata": {
    "collapsed": false
   }
  }
 ],
 "metadata": {
  "kernelspec": {
   "name": "python3",
   "language": "python",
   "display_name": "Python 3 (ipykernel)"
  },
  "language_info": {
   "codemirror_mode": {
    "name": "ipython",
    "version": 3
   },
   "file_extension": ".py",
   "mimetype": "text/x-python",
   "name": "python",
   "nbconvert_exporter": "python",
   "pygments_lexer": "ipython3",
   "version": "3.8.13"
  }
 },
 "nbformat": 4,
 "nbformat_minor": 5
}
