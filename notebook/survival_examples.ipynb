{
 "cells": [
  {
   "cell_type": "markdown",
   "id": "30426b47",
   "metadata": {},
   "source": [
    "# Survival examples\n",
    "\n",
    "In this notebook, we walk through the different usages of the ICARE package for survival prediction tasks (or any ranking task with a censored target)."
   ]
  },
  {
   "cell_type": "code",
   "execution_count": 11,
   "id": "53cf02a3",
   "metadata": {},
   "outputs": [],
   "source": [
    "import numpy as np\n",
    "from sksurv import datasets\n",
    "from sksurv.preprocessing import OneHotEncoder\n",
    "from sklearn.model_selection import cross_val_score, ShuffleSplit\n",
    "from sksurv.util import Surv\n",
    "\n",
    "from icare.visualisation import plot_avg_sign\n",
    "from icare.metrics import harrell_cindex, harrell_cindex_scorer\n",
    "from icare.survival import IcareSurvival, BaggedIcareSurvival"
   ]
  },
  {
   "cell_type": "markdown",
   "id": "cc326e7d",
   "metadata": {},
   "source": [
    "We use a dataset from scikit-survival."
   ]
  },
  {
   "cell_type": "code",
   "execution_count": 12,
   "id": "daf3640f",
   "metadata": {
    "scrolled": true
   },
   "outputs": [
    {
     "name": "stderr",
     "output_type": "stream",
     "text": [
      "C:\\Users\\louis\\Documents\\work\\ICARE\\venv\\lib\\site-packages\\sksurv\\column.py:142: FutureWarning: iteritems is deprecated and will be removed in a future version. Use .items instead.\n",
      "  for name, series in table.iteritems():\n"
     ]
    }
   ],
   "source": [
    "X, y = datasets.load_veterans_lung_cancer()\n",
    "X = OneHotEncoder().fit_transform(X)"
   ]
  },
  {
   "cell_type": "markdown",
   "id": "b54a6954",
   "metadata": {},
   "source": [
    "Both `IcareSurvival` and `BaggedIcareSurvival` can be used like any other scikit-learn estimator."
   ]
  },
  {
   "cell_type": "code",
   "execution_count": 13,
   "id": "9a53c052",
   "metadata": {
    "ExecuteTime": {
     "end_time": "2022-09-19T15:51:11.437813Z",
     "start_time": "2022-09-19T15:51:10.099319Z"
    },
    "scrolled": true
   },
   "outputs": [
    {
     "name": "stdout",
     "output_type": "stream",
     "text": [
      "[-0.86676945 -0.54714153 -1.89672184 -0.30465896 -0.34216859] 0.6669695592912313\n",
      "[-0.97553991 -0.96223422 -1.12326956 -0.74229951 -0.86201233] 0.696501590186279\n"
     ]
    }
   ],
   "source": [
    "model = IcareSurvival()\n",
    "model.fit(X, y)\n",
    "pred = model.predict(X)\n",
    "print(pred[:5], harrell_cindex(y, pred))\n",
    "\n",
    "model = BaggedIcareSurvival()\n",
    "model.fit(X, y)\n",
    "pred = model.predict(X)\n",
    "print(pred[:5], harrell_cindex(y, pred))"
   ]
  },
  {
   "cell_type": "markdown",
   "id": "ff03f5d3",
   "metadata": {},
   "source": [
    "Then are compatible with any scikit-learn function."
   ]
  },
  {
   "cell_type": "code",
   "execution_count": 14,
   "id": "ba095426",
   "metadata": {
    "ExecuteTime": {
     "end_time": "2022-09-19T15:51:13.373768Z",
     "start_time": "2022-09-19T15:51:11.440915Z"
    }
   },
   "outputs": [
    {
     "name": "stdout",
     "output_type": "stream",
     "text": [
      "0.6367912986203035\n",
      "0.6679357053762346\n"
     ]
    }
   ],
   "source": [
    "print(cross_val_score(IcareSurvival(), X, y,\n",
    "                      cv=ShuffleSplit(n_splits=4, test_size=.25, random_state=42),\n",
    "                      n_jobs=-1,\n",
    "                      scoring=harrell_cindex_scorer).mean())\n",
    "\n",
    "print(cross_val_score(BaggedIcareSurvival(), X, y,\n",
    "                      cv=ShuffleSplit(n_splits=4, test_size=.25, random_state=42),\n",
    "                      n_jobs=-1,\n",
    "                      scoring=harrell_cindex_scorer).mean())"
   ]
  },
  {
   "cell_type": "markdown",
   "id": "24aba793",
   "metadata": {},
   "source": [
    "The target value can be censored or not. If not censored, simply pass a 1D array."
   ]
  },
  {
   "cell_type": "code",
   "execution_count": 15,
   "id": "8375f14e",
   "metadata": {},
   "outputs": [
    {
     "name": "stdout",
     "output_type": "stream",
     "text": [
      "(137,)\n"
     ]
    }
   ],
   "source": [
    "# create the non censored target\n",
    "target = np.array([x[1] for x in y])\n",
    "event = np.array([x[0] for x in y])\n",
    "\n",
    "print(target.shape)"
   ]
  },
  {
   "cell_type": "code",
   "execution_count": 16,
   "id": "a318394c",
   "metadata": {},
   "outputs": [
    {
     "name": "stdout",
     "output_type": "stream",
     "text": [
      "[-0.86676945 -0.54714153 -1.89672184 -0.30465896 -0.34216859] 0.6669695592912313\n"
     ]
    }
   ],
   "source": [
    "model = IcareSurvival()\n",
    "model.fit(X, target)\n",
    "pred = model.predict(X)\n",
    "print(pred[:5], harrell_cindex(y, pred))"
   ]
  },
  {
   "cell_type": "markdown",
   "id": "32e501c4",
   "metadata": {},
   "source": [
    "However, if it censored and you have two arrays: one for target, one for the censoring, you need to format them with the sickit-survival format."
   ]
  },
  {
   "cell_type": "code",
   "execution_count": 17,
   "id": "90f8a500",
   "metadata": {},
   "outputs": [
    {
     "data": {
      "text/plain": "array([( True,  72.), ( True, 411.), ( True, 228.), ( True, 126.),\n       ( True, 118.), ( True,  10.), ( True,  82.), ( True, 110.),\n       ( True, 314.), (False, 100.)],\n      dtype=[('event', '?'), ('time', '<f8')])"
     },
     "execution_count": 17,
     "metadata": {},
     "output_type": "execute_result"
    }
   ],
   "source": [
    "y = Surv.from_arrays(event=np.array(event).astype('bool'), time=target)\n",
    "y[:10]"
   ]
  },
  {
   "cell_type": "code",
   "execution_count": 18,
   "id": "5c726550",
   "metadata": {},
   "outputs": [
    {
     "name": "stdout",
     "output_type": "stream",
     "text": [
      "[-0.86676945 -0.54714153 -1.89672184 -0.30465896 -0.34216859] 0.6669695592912313\n"
     ]
    }
   ],
   "source": [
    "model = IcareSurvival()\n",
    "model.fit(X, y)\n",
    "pred = model.predict(X)\n",
    "print(pred[:5], harrell_cindex(y, pred))"
   ]
  },
  {
   "cell_type": "markdown",
   "id": "1a5d2788",
   "metadata": {},
   "source": [
    "For interpretation, you can use the `plot_avg_sign` function to plot the average signs of the features in the `BaggedIcareSurvival` model.\n",
    "\n",
    "A positive sign means that the feature is anti-concordant with the target value (e.g. decreases time to death when value increases, meaning a higher risk), and the other way around for a negative sign. A value close to zero mean that the feature sign was unstable. This can be due to a low predictive power."
   ]
  },
  {
   "cell_type": "code",
   "execution_count": 20,
   "id": "880cce36",
   "metadata": {},
   "outputs": [
    {
     "name": "stderr",
     "output_type": "stream",
     "text": [
      "C:\\Users\\louis\\Documents\\work\\ICARE\\venv\\lib\\site-packages\\sksurv\\column.py:142: FutureWarning: iteritems is deprecated and will be removed in a future version. Use .items instead.\n",
      "  for name, series in table.iteritems():\n"
     ]
    },
    {
     "data": {
      "text/plain": "<Figure size 640x480 with 1 Axes>",
      "image/png": "[encoded data removed]"
     },
     "metadata": {},
     "output_type": "display_data"
    }
   ],
   "source": [
    "model = BaggedIcareSurvival(n_estimators=1000, n_jobs=-1)\n",
    "\n",
    "\n",
    "X, y = datasets.load_veterans_lung_cancer()\n",
    "X = OneHotEncoder().fit_transform(X)\n",
    "model.fit(X,y)\n",
    "plot_avg_sign(model)"
   ]
  },
  {
   "cell_type": "code",
   "execution_count": null,
   "id": "aa379526",
   "metadata": {},
   "outputs": [],
   "source": []
  }
 ],
 "metadata": {
  "kernelspec": {
   "name": "python3",
   "language": "python",
   "display_name": "Python 3 (ipykernel)"
  },
  "language_info": {
   "codemirror_mode": {
    "name": "ipython",
    "version": 3
   },
   "file_extension": ".py",
   "mimetype": "text/x-python",
   "name": "python",
   "nbconvert_exporter": "python",
   "pygments_lexer": "ipython3",
   "version": "3.8.13"
  }
 },
 "nbformat": 4,
 "nbformat_minor": 5
}
