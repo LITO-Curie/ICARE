{
 "cells": [
  {
   "cell_type": "code",
   "execution_count": 1,
   "id": "9a53c052",
   "metadata": {
    "ExecuteTime": {
     "end_time": "2022-09-19T15:51:11.437813Z",
     "start_time": "2022-09-19T15:51:10.099319Z"
    },
    "scrolled": true
   },
   "outputs": [
    {
     "name": "stdout",
     "output_type": "stream",
     "text": [
      "[-0.0716535  -0.57249692 -0.0716535  -0.0716535  -0.57249692]\n"
     ]
    },
    {
     "data": {
      "text/plain": [
       "0.7092798727850976"
      ]
     },
     "execution_count": 1,
     "metadata": {},
     "output_type": "execute_result"
    }
   ],
   "source": [
    "from sksurv import datasets\n",
    "import numpy as np\n",
    "from sksurv.preprocessing import OneHotEncoder\n",
    "from icare.metrics import harrell_cindex, harrell_cindex_scorer\n",
    "from icare.survival import IcareSurv, BaggedIcareSurv\n",
    "\n",
    "\n",
    "X, y = datasets.load_veterans_lung_cancer()\n",
    "X = OneHotEncoder().fit_transform(X)\n",
    "\n",
    "model = IcareSurv()\n",
    "model.fit(X, y)\n",
    "pred = model.predict(X)\n",
    "print(pred[:5])\n",
    "harrell_cindex(y, pred)"
   ]
  },
  {
   "cell_type": "code",
   "execution_count": 2,
   "id": "ba095426",
   "metadata": {
    "ExecuteTime": {
     "end_time": "2022-09-19T15:51:13.373768Z",
     "start_time": "2022-09-19T15:51:11.440915Z"
    }
   },
   "outputs": [
    {
     "data": {
      "text/plain": [
       "0.6947391484658725"
      ]
     },
     "execution_count": 2,
     "metadata": {},
     "output_type": "execute_result"
    }
   ],
   "source": [
    "from sklearn.model_selection import cross_val_score, ShuffleSplit\n",
    "\n",
    "model = IcareSurv()\n",
    "score = cross_val_score(model, X, y,\n",
    "                        cv=ShuffleSplit(n_splits=4, test_size=.25, random_state=42),\n",
    "                        n_jobs=4,\n",
    "                        scoring=harrell_cindex_scorer).mean()\n",
    "score"
   ]
  },
  {
   "cell_type": "markdown",
   "id": "95800a29",
   "metadata": {},
   "source": [
    "If you have to array for the time and the event:"
   ]
  },
  {
   "cell_type": "code",
   "execution_count": 3,
   "id": "49ee4b6e",
   "metadata": {
    "ExecuteTime": {
     "end_time": "2022-09-19T15:51:13.417309Z",
     "start_time": "2022-09-19T15:51:13.377894Z"
    }
   },
   "outputs": [
    {
     "data": {
      "text/plain": [
       "([72.0, 411.0, 228.0, 126.0, 118.0, 10.0, 82.0, 110.0, 314.0, 100.0],\n",
       " [True, True, True, True, True, True, True, True, True, False])"
      ]
     },
     "execution_count": 3,
     "metadata": {},
     "output_type": "execute_result"
    }
   ],
   "source": [
    "X, y = datasets.load_veterans_lung_cancer()\n",
    "X = OneHotEncoder().fit_transform(X)\n",
    "\n",
    "time = [x[1] for x in y]\n",
    "event = [x[0] for x in y]\n",
    "\n",
    "time[:10], event[:10]"
   ]
  },
  {
   "cell_type": "markdown",
   "id": "61f35838",
   "metadata": {},
   "source": [
    "If you give the time without the censoring, the model will assume that there is no censoring in the dataset"
   ]
  },
  {
   "cell_type": "code",
   "execution_count": 4,
   "id": "c053f302",
   "metadata": {
    "ExecuteTime": {
     "end_time": "2022-09-19T15:51:13.511733Z",
     "start_time": "2022-09-19T15:51:13.439259Z"
    }
   },
   "outputs": [
    {
     "data": {
      "text/plain": [
       "0.5"
      ]
     },
     "execution_count": 4,
     "metadata": {},
     "output_type": "execute_result"
    }
   ],
   "source": [
    "model = IcareSurv()\n",
    "cross_val_score(model, X, time,\n",
    "                cv=ShuffleSplit(n_splits=4, test_size=.25, random_state=42),\n",
    "                n_jobs=4,\n",
    "                scoring=harrell_cindex_scorer).mean()"
   ]
  },
  {
   "cell_type": "markdown",
   "id": "294ff26a",
   "metadata": {},
   "source": [
    "You have to merge them into one array like this:"
   ]
  },
  {
   "cell_type": "code",
   "execution_count": 5,
   "id": "f1740177",
   "metadata": {
    "ExecuteTime": {
     "end_time": "2022-09-19T15:51:13.522523Z",
     "start_time": "2022-09-19T15:51:13.514468Z"
    }
   },
   "outputs": [
    {
     "data": {
      "text/plain": [
       "array([( True,  72.), ( True, 411.), ( True, 228.), ( True, 126.),\n",
       "       ( True, 118.), ( True,  10.), ( True,  82.), ( True, 110.),\n",
       "       ( True, 314.), (False, 100.)],\n",
       "      dtype=[('event', '?'), ('time', '<f8')])"
      ]
     },
     "execution_count": 5,
     "metadata": {},
     "output_type": "execute_result"
    }
   ],
   "source": [
    "from sksurv.util import Surv\n",
    "y = Surv.from_arrays(event=np.array(event).astype('bool'), time=time)\n",
    "y[:10]"
   ]
  },
  {
   "cell_type": "code",
   "execution_count": 6,
   "id": "49055520",
   "metadata": {
    "ExecuteTime": {
     "end_time": "2022-09-19T15:51:13.923454Z",
     "start_time": "2022-09-19T15:51:13.526592Z"
    }
   },
   "outputs": [
    {
     "data": {
      "text/plain": [
       "0.6947391484658725"
      ]
     },
     "execution_count": 6,
     "metadata": {},
     "output_type": "execute_result"
    }
   ],
   "source": [
    "model = IcareSurv()\n",
    "cross_val_score(model, X, y,\n",
    "                cv=ShuffleSplit(n_splits=4, test_size=.25, random_state=42),\n",
    "                n_jobs=4,\n",
    "                scoring=harrell_cindex_scorer).mean()"
   ]
  },
  {
   "cell_type": "code",
   "execution_count": 15,
   "id": "e7cc5a95",
   "metadata": {},
   "outputs": [
    {
     "data": {
      "image/png": "[encoded data removed]",
      "text/plain": [
       "<Figure size 432x288 with 1 Axes>"
      ]
     },
     "metadata": {},
     "output_type": "display_data"
    }
   ],
   "source": [
    "from icare.visualiation import plot_avg_sign\n",
    "\n",
    "X, y = datasets.load_veterans_lung_cancer()\n",
    "X = OneHotEncoder().fit_transform(X)\n",
    "model = BaggedIcareSurv(n_estimators=10, n_jobs=-1)\n",
    "model.fit(X,y)\n",
    "plot_avg_sign(model)"
   ]
  },
  {
   "cell_type": "code",
   "execution_count": null,
   "id": "8f637dbb",
   "metadata": {},
   "outputs": [],
   "source": [
    "from icare.visualiation import plot_avg_sign\n",
    "\n",
    "X, y = datasets.load_aids()\n",
    "X = OneHotEncoder().fit_transform(X)\n",
    "model = BaggedIcareSurv(n_estimators=10, n_jobs=-1)\n",
    "model.fit(X,y)\n",
    "plot_avg_sign(model)"
   ]
  },
  {
   "cell_type": "code",
   "execution_count": null,
   "id": "c8063d65",
   "metadata": {},
   "outputs": [],
   "source": []
  }
 ],
 "metadata": {
  "kernelspec": {
   "display_name": "icare_env",
   "language": "python",
   "name": "icare_env"
  },
  "language_info": {
   "codemirror_mode": {
    "name": "ipython",
    "version": 3
   },
   "file_extension": ".py",
   "mimetype": "text/x-python",
   "name": "python",
   "nbconvert_exporter": "python",
   "pygments_lexer": "ipython3",
   "version": "3.6.13"
  }
 },
 "nbformat": 4,
 "nbformat_minor": 5
}
